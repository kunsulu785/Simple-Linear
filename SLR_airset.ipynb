# Importing the libraries
# pandas
import pandas as pd
# matplotlib.pyplot
import matplotlib.pyplot as plt
# Importing the datasets into the data frames
df = pd.read_csv("AirPassengers.csv")

#removes empty columns
df = df.drop(columns=['Unnamed: 0']) 
# split the data into the inputs and outputs sets
X = df.iloc[:,: -1].values
y = df.iloc[:, 1].values
# now take a look at your dataset, training and test sets
X
y
# Split the dataset into the Training set and Test set
# use sklearn cross_validation library for that
from sklearn.cross_validation import train_test_split

# train 80%  test 20%
X_train, X_test, y_train, y_test = train_test_split(X, y, test_size = 0.2, random_state = 0)
# the sizes of data sets
print('X_train size: ', X_train.size, '; y_train size: ', len(y_test),'; X_test size: ', len(X_test),'; y_test size: ', len(y_test))
# importing the appropriate class for SLR.
from sklearn.linear_model import LinearRegression 
# Making an object of that class 'regressor'
regressor = LinearRegression() 
# fits x a and y train
regressor.fit(X_train,y_train)  
# making the prediction on test set 
# putting the results into 'y_pred' vector
y_pred = regressor.predict(X_train)
# Visualising the Training set results

plt.scatter(X_train, y_train, color = 'red')
plt.plot(X_train, regressor.predict(X_train), color = 'blue')
plt.title('Salary vs Experience (Training set)')
plt.xlabel('Years of Experience')
plt.ylabel('Salary')
plt.show()
# Visualising the Test set results
plt.scatter(X_test, y_test, color = 'red')
plt.plot(X_train, regressor.predict(X_train), color = 'blue')
plt.title('Salary vs Experience (Test set)')
plt.xlabel('Years of Experience')
plt.ylabel('Salary')
plt.show()
# y_test is a vector of real salaries, y_pred is a vector of the salaries predicted by model
for i,j in zip(y_test, y_pred):
    print('real ',i, ' - predicted: ', j)
